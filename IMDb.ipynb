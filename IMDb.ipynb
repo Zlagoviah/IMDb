{
 "cells": [
  {
   "cell_type": "code",
   "execution_count": 1,
   "metadata": {},
   "outputs": [],
   "source": [
    "import re\n",
    "from urllib import request\n",
    "import gzip\n",
    "import shutil\n",
    "import requests\n",
    "import pandas as pd\n",
    "import sqlalchemy\n",
    "import urllib\n",
    "from multiprocessing.pool import ThreadPool\n",
    "import pyodbc"
   ]
  },
  {
   "cell_type": "code",
   "execution_count": null,
   "metadata": {},
   "outputs": [],
   "source": [
    "def download_url(url):\n",
    "    # Download process\n",
    "    print(\"downloading: \",url)\n",
    "    file_title = re.split(pattern='/', string=url)[-1]\n",
    "    urlrtv = request.urlretrieve(url=url, filename=file_title)\n",
    "    \n",
    "    # for \".tsv\" to \".csv\"\n",
    "    title = re.split(pattern=r'\\.tsv', string=file_title)[0] +\".csv\"\n",
    "    \n",
    "    # Unzip \".gz\" file\n",
    "    with gzip.open(file_title, 'rb') as f_in:\n",
    "        with open(title, 'wb') as f_out:\n",
    "            shutil.copyfileobj(f_in, f_out)"
   ]
  },
  {
   "cell_type": "code",
   "execution_count": null,
   "metadata": {},
   "outputs": [],
   "source": [
    "# URL List\n",
    "urls = [\"https://datasets.imdbws.com/title.episode.tsv.gz\"\n",
    "        ,\"https://datasets.imdbws.com/title.ratings.tsv.gz\"\n",
    "        ,\"https://datasets.imdbws.com/title.akas.tsv.gz\"\n",
    "        ,\"https://datasets.imdbws.com/title.basics.tsv.gz\"\n",
    "        ,\"https://datasets.imdbws.com/title.crew.tsv.gz\"\n",
    "        ,\"https://datasets.imdbws.com/title.principals.tsv.gz\"\n",
    "        ,\"https://datasets.imdbws.com/name.basics.tsv.gz\"\n",
    "        ]\n",
    "# Run 5 multiple threads. Each call will take the next element in urls list\n",
    "results = ThreadPool(5).imap_unordered(download_url, urls)\n",
    "for r in results:\n",
    "    print(r)"
   ]
  },
  {
   "cell_type": "code",
   "execution_count": 2,
   "metadata": {},
   "outputs": [],
   "source": [
    "title_principals = pd.read_csv(r\"E:\\OneDrive - up.edu.mx\\Up\\Clases\\Mineria de datos y CS\\Clase 5\\title.principals.csv\", sep= \"\\t\", nrows=1000)"
   ]
  },
  {
   "cell_type": "code",
   "execution_count": 3,
   "metadata": {},
   "outputs": [
    {
     "data": {
      "text/html": [
       "<div>\n",
       "<style scoped>\n",
       "    .dataframe tbody tr th:only-of-type {\n",
       "        vertical-align: middle;\n",
       "    }\n",
       "\n",
       "    .dataframe tbody tr th {\n",
       "        vertical-align: top;\n",
       "    }\n",
       "\n",
       "    .dataframe thead th {\n",
       "        text-align: right;\n",
       "    }\n",
       "</style>\n",
       "<table border=\"1\" class=\"dataframe\">\n",
       "  <thead>\n",
       "    <tr style=\"text-align: right;\">\n",
       "      <th></th>\n",
       "      <th>tconst</th>\n",
       "      <th>ordering</th>\n",
       "      <th>nconst</th>\n",
       "      <th>category</th>\n",
       "      <th>job</th>\n",
       "      <th>characters</th>\n",
       "    </tr>\n",
       "  </thead>\n",
       "  <tbody>\n",
       "    <tr>\n",
       "      <th>0</th>\n",
       "      <td>tt0000001</td>\n",
       "      <td>1</td>\n",
       "      <td>nm1588970</td>\n",
       "      <td>self</td>\n",
       "      <td>\\N</td>\n",
       "      <td>[\"Self\"]</td>\n",
       "    </tr>\n",
       "    <tr>\n",
       "      <th>1</th>\n",
       "      <td>tt0000001</td>\n",
       "      <td>2</td>\n",
       "      <td>nm0005690</td>\n",
       "      <td>director</td>\n",
       "      <td>\\N</td>\n",
       "      <td>\\N</td>\n",
       "    </tr>\n",
       "    <tr>\n",
       "      <th>2</th>\n",
       "      <td>tt0000001</td>\n",
       "      <td>3</td>\n",
       "      <td>nm0005690</td>\n",
       "      <td>producer</td>\n",
       "      <td>producer</td>\n",
       "      <td>\\N</td>\n",
       "    </tr>\n",
       "    <tr>\n",
       "      <th>3</th>\n",
       "      <td>tt0000001</td>\n",
       "      <td>4</td>\n",
       "      <td>nm0374658</td>\n",
       "      <td>cinematographer</td>\n",
       "      <td>director of photography</td>\n",
       "      <td>\\N</td>\n",
       "    </tr>\n",
       "    <tr>\n",
       "      <th>4</th>\n",
       "      <td>tt0000002</td>\n",
       "      <td>1</td>\n",
       "      <td>nm0721526</td>\n",
       "      <td>director</td>\n",
       "      <td>\\N</td>\n",
       "      <td>\\N</td>\n",
       "    </tr>\n",
       "  </tbody>\n",
       "</table>\n",
       "</div>"
      ],
      "text/plain": [
       "      tconst  ordering     nconst         category                      job  \\\n",
       "0  tt0000001         1  nm1588970             self                       \\N   \n",
       "1  tt0000001         2  nm0005690         director                       \\N   \n",
       "2  tt0000001         3  nm0005690         producer                 producer   \n",
       "3  tt0000001         4  nm0374658  cinematographer  director of photography   \n",
       "4  tt0000002         1  nm0721526         director                       \\N   \n",
       "\n",
       "  characters  \n",
       "0   [\"Self\"]  \n",
       "1         \\N  \n",
       "2         \\N  \n",
       "3         \\N  \n",
       "4         \\N  "
      ]
     },
     "execution_count": 3,
     "metadata": {},
     "output_type": "execute_result"
    }
   ],
   "source": [
    "title_principals.head()"
   ]
  },
  {
   "cell_type": "code",
   "execution_count": 4,
   "metadata": {},
   "outputs": [],
   "source": [
    "from neo4j import GraphDatabase, basic_auth\n",
    "import pyneoinstance"
   ]
  },
  {
   "cell_type": "markdown",
   "metadata": {},
   "source": [
    "https://neo4j.com/developer-blog/scoobygraph-2/"
   ]
  },
  {
   "cell_type": "code",
   "execution_count": 9,
   "metadata": {},
   "outputs": [],
   "source": [
    "# Python file - connection to Neo4j\n",
    "\n",
    "# Retrieving the Neo4j connection credentials from the config.yaml file\n",
    "configs=pyneoinstance.load_yaml_file('config.yaml')\n",
    "creds=configs['credentials']\n",
    "\n",
    "# Establishing the Neo4j connection\n",
    "neo4j=pyneoinstance.Neo4jInstance(creds['uri'],creds['user'],creds['password'])"
   ]
  },
  {
   "cell_type": "code",
   "execution_count": 10,
   "metadata": {},
   "outputs": [
    {
     "name": "stderr",
     "output_type": "stream",
     "text": [
      "e:\\OneDrive - up.edu.mx\\Up\\Clases\\.venv\\Lib\\site-packages\\numpy\\_core\\fromnumeric.py:57: FutureWarning: 'DataFrame.swapaxes' is deprecated and will be removed in a future version. Please use 'DataFrame.transpose' instead.\n",
      "  return bound(*args, **kwds)\n"
     ]
    },
    {
     "data": {
      "text/plain": [
       "{'labels_added': 461, 'nodes_created': 461, 'properties_set': 2766}"
      ]
     },
     "execution_count": 10,
     "metadata": {},
     "output_type": "execute_result"
    }
   ],
   "source": [
    "# Python - loading nodes\n",
    "# Load series nodes\n",
    "neo4j.execute_write_query_with_data(query =configs['cypher']['load_nodes']['load_series'],data=title_principals)\n",
    "# Load episode nodes and IN_SERIES relationships\n",
    "# neo4j.execute_write_query_with_data(query = configs['cypher']['load_nodes']['load_episodes'],data = title_principals)\n",
    "# Load monster, subtype, type, and species nodes/relationships\n",
    "# neo4j.execute_write_query_with_data(query = configs['cypher']['load_nodes']['load_monsters'],data = title_principals[~title_principals.monster_name.isna()])"
   ]
  },
  {
   "cell_type": "code",
   "execution_count": 10,
   "metadata": {},
   "outputs": [
    {
     "data": {
      "text/plain": [
       "{'labels_added': 5, 'nodes_created': 5, 'properties_set': 5}"
      ]
     },
     "execution_count": 10,
     "metadata": {},
     "output_type": "execute_result"
    }
   ],
   "source": [
    "# Python script: loading main characters\n",
    "# Loading the main characters\n",
    "neo4j.execute_write_query(configs['cypher']['load_nodes']['load_main_characters'])"
   ]
  },
  {
   "cell_type": "code",
   "execution_count": 16,
   "metadata": {},
   "outputs": [
    {
     "data": {
      "text/plain": [
       "{'relationships_created': 2260}"
      ]
     },
     "execution_count": 16,
     "metadata": {},
     "output_type": "execute_result"
    }
   ],
   "source": [
    "# Python - Creating APPEARS_WITH relationships\n",
    "neo4j.execute_write_query(configs['cypher']['load_relationships']['APPEARS_WITH'])"
   ]
  },
  {
   "cell_type": "code",
   "execution_count": 12,
   "metadata": {},
   "outputs": [],
   "source": [
    "driver = GraphDatabase.driver(creds['uri'], auth=basic_auth(creds['user'], creds['password']))"
   ]
  },
  {
   "cell_type": "code",
   "execution_count": 24,
   "metadata": {},
   "outputs": [],
   "source": [
    "cypher_query = '''\n",
    "MATCH (n)\n",
    "RETURN n AS count\n",
    "LIMIT $limit\n",
    "'''"
   ]
  },
  {
   "cell_type": "code",
   "execution_count": 25,
   "metadata": {},
   "outputs": [
    {
     "name": "stderr",
     "output_type": "stream",
     "text": [
      "C:\\Users\\halo4\\AppData\\Local\\Temp\\ipykernel_25876\\212345830.py:1: DeprecationWarning: Using a driver after it has been closed is deprecated. Future versions of the driver will raise an error.\n",
      "  with driver.session(database=\"neo4j\") as session:\n",
      "C:\\Users\\halo4\\AppData\\Local\\Temp\\ipykernel_25876\\212345830.py:2: DeprecationWarning: read_transaction has been renamed to execute_read\n",
      "  results = session.read_transaction(\n"
     ]
    },
    {
     "name": "stdout",
     "output_type": "stream",
     "text": [
      "{'index_': 1, 'titleID': 'tt0000001', 'personID': 'nm1588970', 'job_category': 'self', 'job_title': '\\\\N', 'characters_name': '[\"Self\"]'}\n",
      "{'index_': 1, 'titleID': 'tt0000002', 'personID': 'nm0721526', 'job_category': 'director', 'job_title': '\\\\N', 'characters_name': '\\\\N'}\n",
      "{'index_': 1, 'titleID': 'tt0000003', 'personID': 'nm0721526', 'job_category': 'director', 'job_title': '\\\\N', 'characters_name': '\\\\N'}\n",
      "{'index_': 1, 'titleID': 'tt0000004', 'personID': 'nm0721526', 'job_category': 'director', 'job_title': '\\\\N', 'characters_name': '\\\\N'}\n",
      "{'index_': 1, 'titleID': 'tt0000005', 'personID': 'nm0443482', 'job_category': 'actor', 'job_title': '\\\\N', 'characters_name': '[\"Blacksmith\"]'}\n",
      "{'index_': 1, 'titleID': 'tt0000007', 'personID': 'nm0179163', 'job_category': 'actor', 'job_title': '\\\\N', 'characters_name': '\\\\N'}\n",
      "{'index_': 1, 'titleID': 'tt0000008', 'personID': 'nm0653028', 'job_category': 'actor', 'job_title': '\\\\N', 'characters_name': '[\"Sneezing Man\"]'}\n",
      "{'index_': 1, 'titleID': 'tt0000009', 'personID': 'nm0063086', 'job_category': 'actress', 'job_title': '\\\\N', 'characters_name': '[\"Miss Geraldine Holbrook (Miss Jerry)\"]'}\n",
      "{'index_': 1, 'titleID': 'tt0000010', 'personID': 'nm0525910', 'job_category': 'director', 'job_title': '\\\\N', 'characters_name': '\\\\N'}\n",
      "{'index_': 1, 'titleID': 'tt0000011', 'personID': 'nm3692297', 'job_category': 'actor', 'job_title': '\\\\N', 'characters_name': '[\"Acrobats\"]'}\n"
     ]
    }
   ],
   "source": [
    "\n",
    "with driver.session(database=\"neo4j\") as session:\n",
    "  results = session.read_transaction(\n",
    "    lambda tx: tx.run(cypher_query,\n",
    "                      limit=10).data())\n",
    "  for record in results:\n",
    "    print(record['count'])\n",
    "\n",
    "driver.close()\n"
   ]
  }
 ],
 "metadata": {
  "kernelspec": {
   "display_name": ".venv",
   "language": "python",
   "name": "python3"
  },
  "language_info": {
   "codemirror_mode": {
    "name": "ipython",
    "version": 3
   },
   "file_extension": ".py",
   "mimetype": "text/x-python",
   "name": "python",
   "nbconvert_exporter": "python",
   "pygments_lexer": "ipython3",
   "version": "3.11.8"
  }
 },
 "nbformat": 4,
 "nbformat_minor": 2
}
