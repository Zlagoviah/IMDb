{
 "cells": [
  {
   "cell_type": "code",
   "execution_count": 1,
   "metadata": {},
   "outputs": [],
   "source": [
    "import re\n",
    "from urllib import request\n",
    "import gzip\n",
    "import shutil\n",
    "import requests\n",
    "import pandas as pd\n",
    "import sqlalchemy\n",
    "import urllib\n",
    "from multiprocessing.pool import ThreadPool\n",
    "import pyodbc"
   ]
  },
  {
   "cell_type": "code",
   "execution_count": null,
   "metadata": {},
   "outputs": [],
   "source": [
    "def download_url(url):\n",
    "    # Download process\n",
    "    print(\"downloading: \",url)\n",
    "    file_title = re.split(pattern='/', string=url)[-1]\n",
    "    urlrtv = request.urlretrieve(url=url, filename=file_title)\n",
    "    \n",
    "    # for \".tsv\" to \".csv\"\n",
    "    title = re.split(pattern=r'\\.tsv', string=file_title)[0] +\".csv\"\n",
    "    \n",
    "    # Unzip \".gz\" file\n",
    "    with gzip.open(file_title, 'rb') as f_in:\n",
    "        with open(title, 'wb') as f_out:\n",
    "            shutil.copyfileobj(f_in, f_out)"
   ]
  },
  {
   "cell_type": "code",
   "execution_count": null,
   "metadata": {},
   "outputs": [],
   "source": [
    "# URL List\n",
    "urls = [\"https://datasets.imdbws.com/title.episode.tsv.gz\"\n",
    "        ,\"https://datasets.imdbws.com/title.ratings.tsv.gz\"\n",
    "        ,\"https://datasets.imdbws.com/title.akas.tsv.gz\"\n",
    "        ,\"https://datasets.imdbws.com/title.basics.tsv.gz\"\n",
    "        ,\"https://datasets.imdbws.com/title.crew.tsv.gz\"\n",
    "        ,\"https://datasets.imdbws.com/title.principals.tsv.gz\"\n",
    "        ,\"https://datasets.imdbws.com/name.basics.tsv.gz\"\n",
    "        ]\n",
    "# Run 5 multiple threads. Each call will take the next element in urls list\n",
    "results = ThreadPool(5).imap_unordered(download_url, urls)\n",
    "for r in results:\n",
    "    print(r)"
   ]
  },
  {
   "cell_type": "code",
   "execution_count": 2,
   "metadata": {},
   "outputs": [],
   "source": [
    "title_principals = pd.read_csv(r\"E:\\OneDrive - up.edu.mx\\Up\\Clases\\Mineria de datos y CS\\Clase 5\\title.principals.csv\", sep= \"\\t\", nrows=1000)\n",
    "title_akas = pd.read_csv(r\"E:\\OneDrive - up.edu.mx\\Up\\Clases\\Mineria de datos y CS\\Clase 5\\title.akas.csv\", sep= \"\\t\", nrows=1000)\n",
    "name_basics = pd.read_csv(r\"E:\\OneDrive - up.edu.mx\\Up\\Clases\\Mineria de datos y CS\\Clase 5\\name.basics.csv\", sep= \"\\t\", nrows=1000)\n",
    "title_basics = pd.read_csv(r\"E:\\OneDrive - up.edu.mx\\Up\\Clases\\Mineria de datos y CS\\Clase 5\\title.basics.csv\", sep= \"\\t\", nrows=1000)\n",
    "title_crew = pd.read_csv(r\"E:\\OneDrive - up.edu.mx\\Up\\Clases\\Mineria de datos y CS\\Clase 5\\title.crew.csv\", sep= \"\\t\", nrows=1000)\n",
    "title_episode = pd.read_csv(r\"E:\\OneDrive - up.edu.mx\\Up\\Clases\\Mineria de datos y CS\\Clase 5\\title.episode.csv\", sep= \"\\t\", nrows=1000)\n",
    "title_ratings = pd.read_csv(r\"E:\\OneDrive - up.edu.mx\\Up\\Clases\\Mineria de datos y CS\\Clase 5\\title.ratings.csv\", sep= \"\\t\", nrows=1000)"
   ]
  },
  {
   "cell_type": "code",
   "execution_count": 15,
   "metadata": {},
   "outputs": [
    {
     "data": {
      "text/html": [
       "<div>\n",
       "<style scoped>\n",
       "    .dataframe tbody tr th:only-of-type {\n",
       "        vertical-align: middle;\n",
       "    }\n",
       "\n",
       "    .dataframe tbody tr th {\n",
       "        vertical-align: top;\n",
       "    }\n",
       "\n",
       "    .dataframe thead th {\n",
       "        text-align: right;\n",
       "    }\n",
       "</style>\n",
       "<table border=\"1\" class=\"dataframe\">\n",
       "  <thead>\n",
       "    <tr style=\"text-align: right;\">\n",
       "      <th></th>\n",
       "      <th>titleId</th>\n",
       "      <th>ordering</th>\n",
       "      <th>title</th>\n",
       "      <th>region</th>\n",
       "      <th>language</th>\n",
       "      <th>types</th>\n",
       "      <th>attributes</th>\n",
       "      <th>isOriginalTitle</th>\n",
       "    </tr>\n",
       "  </thead>\n",
       "  <tbody>\n",
       "    <tr>\n",
       "      <th>0</th>\n",
       "      <td>tt0000001</td>\n",
       "      <td>1</td>\n",
       "      <td>Carmencita</td>\n",
       "      <td>\\N</td>\n",
       "      <td>\\N</td>\n",
       "      <td>original</td>\n",
       "      <td>\\N</td>\n",
       "      <td>1</td>\n",
       "    </tr>\n",
       "    <tr>\n",
       "      <th>1</th>\n",
       "      <td>tt0000001</td>\n",
       "      <td>2</td>\n",
       "      <td>Carmencita</td>\n",
       "      <td>DE</td>\n",
       "      <td>\\N</td>\n",
       "      <td>\\N</td>\n",
       "      <td>literal title</td>\n",
       "      <td>0</td>\n",
       "    </tr>\n",
       "    <tr>\n",
       "      <th>2</th>\n",
       "      <td>tt0000001</td>\n",
       "      <td>3</td>\n",
       "      <td>Carmencita</td>\n",
       "      <td>US</td>\n",
       "      <td>\\N</td>\n",
       "      <td>imdbDisplay</td>\n",
       "      <td>\\N</td>\n",
       "      <td>0</td>\n",
       "    </tr>\n",
       "    <tr>\n",
       "      <th>3</th>\n",
       "      <td>tt0000001</td>\n",
       "      <td>4</td>\n",
       "      <td>Carmencita - spanyol tánc</td>\n",
       "      <td>HU</td>\n",
       "      <td>\\N</td>\n",
       "      <td>imdbDisplay</td>\n",
       "      <td>\\N</td>\n",
       "      <td>0</td>\n",
       "    </tr>\n",
       "    <tr>\n",
       "      <th>4</th>\n",
       "      <td>tt0000001</td>\n",
       "      <td>5</td>\n",
       "      <td>Καρμενσίτα</td>\n",
       "      <td>GR</td>\n",
       "      <td>\\N</td>\n",
       "      <td>imdbDisplay</td>\n",
       "      <td>\\N</td>\n",
       "      <td>0</td>\n",
       "    </tr>\n",
       "  </tbody>\n",
       "</table>\n",
       "</div>"
      ],
      "text/plain": [
       "     titleId  ordering                      title region language  \\\n",
       "0  tt0000001         1                 Carmencita     \\N       \\N   \n",
       "1  tt0000001         2                 Carmencita     DE       \\N   \n",
       "2  tt0000001         3                 Carmencita     US       \\N   \n",
       "3  tt0000001         4  Carmencita - spanyol tánc     HU       \\N   \n",
       "4  tt0000001         5                 Καρμενσίτα     GR       \\N   \n",
       "\n",
       "         types     attributes  isOriginalTitle  \n",
       "0     original             \\N                1  \n",
       "1           \\N  literal title                0  \n",
       "2  imdbDisplay             \\N                0  \n",
       "3  imdbDisplay             \\N                0  \n",
       "4  imdbDisplay             \\N                0  "
      ]
     },
     "execution_count": 15,
     "metadata": {},
     "output_type": "execute_result"
    }
   ],
   "source": [
    "title_akas.head()"
   ]
  },
  {
   "cell_type": "code",
   "execution_count": 4,
   "metadata": {},
   "outputs": [],
   "source": [
    "from neo4j import GraphDatabase, basic_auth\n",
    "import pyneoinstance"
   ]
  },
  {
   "cell_type": "markdown",
   "metadata": {},
   "source": [
    "https://neo4j.com/developer-blog/scoobygraph-2/"
   ]
  },
  {
   "cell_type": "code",
   "execution_count": 33,
   "metadata": {},
   "outputs": [],
   "source": [
    "# Python file - connection to Neo4j\n",
    "\n",
    "# Retrieving the Neo4j connection credentials from the config.yaml file\n",
    "configs=pyneoinstance.load_yaml_file('config.yaml')\n",
    "creds=configs['credentials']\n",
    "\n",
    "# Establishing the Neo4j connection\n",
    "neo4j=pyneoinstance.Neo4jInstance(creds['uri'],creds['user'],creds['password'])"
   ]
  },
  {
   "cell_type": "code",
   "execution_count": 20,
   "metadata": {},
   "outputs": [
    {
     "name": "stderr",
     "output_type": "stream",
     "text": [
      "e:\\OneDrive - up.edu.mx\\Up\\Clases\\.venv\\Lib\\site-packages\\numpy\\_core\\fromnumeric.py:57: FutureWarning: 'DataFrame.swapaxes' is deprecated and will be removed in a future version. Please use 'DataFrame.transpose' instead.\n",
      "  return bound(*args, **kwds)\n"
     ]
    },
    {
     "data": {
      "text/plain": [
       "{'labels_added': 1000, 'nodes_created': 1000, 'properties_set': 8000}"
      ]
     },
     "execution_count": 20,
     "metadata": {},
     "output_type": "execute_result"
    }
   ],
   "source": [
    "# Python - loading nodes\n",
    "neo4j.execute_write_query_with_data(query = configs['cypher']['load_nodes']['load_akas'], data = title_akas)\n"
   ]
  },
  {
   "cell_type": "code",
   "execution_count": 21,
   "metadata": {},
   "outputs": [
    {
     "name": "stderr",
     "output_type": "stream",
     "text": [
      "e:\\OneDrive - up.edu.mx\\Up\\Clases\\.venv\\Lib\\site-packages\\numpy\\_core\\fromnumeric.py:57: FutureWarning: 'DataFrame.swapaxes' is deprecated and will be removed in a future version. Please use 'DataFrame.transpose' instead.\n",
      "  return bound(*args, **kwds)\n"
     ]
    },
    {
     "data": {
      "text/plain": [
       "{'labels_added': 1000, 'nodes_created': 1000, 'properties_set': 9000}"
      ]
     },
     "execution_count": 21,
     "metadata": {},
     "output_type": "execute_result"
    }
   ],
   "source": [
    "neo4j.execute_write_query_with_data(query = configs['cypher']['load_nodes']['load_basics'],data = title_basics)"
   ]
  },
  {
   "cell_type": "code",
   "execution_count": 22,
   "metadata": {},
   "outputs": [
    {
     "name": "stderr",
     "output_type": "stream",
     "text": [
      "e:\\OneDrive - up.edu.mx\\Up\\Clases\\.venv\\Lib\\site-packages\\numpy\\_core\\fromnumeric.py:57: FutureWarning: 'DataFrame.swapaxes' is deprecated and will be removed in a future version. Please use 'DataFrame.transpose' instead.\n",
      "  return bound(*args, **kwds)\n"
     ]
    },
    {
     "data": {
      "text/plain": [
       "{'labels_added': 1000, 'nodes_created': 1000, 'properties_set': 3000}"
      ]
     },
     "execution_count": 22,
     "metadata": {},
     "output_type": "execute_result"
    }
   ],
   "source": [
    "neo4j.execute_write_query_with_data(query = configs['cypher']['load_nodes']['load_crew'],data = title_crew)"
   ]
  },
  {
   "cell_type": "code",
   "execution_count": 23,
   "metadata": {},
   "outputs": [
    {
     "name": "stderr",
     "output_type": "stream",
     "text": [
      "e:\\OneDrive - up.edu.mx\\Up\\Clases\\.venv\\Lib\\site-packages\\numpy\\_core\\fromnumeric.py:57: FutureWarning: 'DataFrame.swapaxes' is deprecated and will be removed in a future version. Please use 'DataFrame.transpose' instead.\n",
      "  return bound(*args, **kwds)\n"
     ]
    },
    {
     "data": {
      "text/plain": [
       "{'labels_added': 1000, 'nodes_created': 1000, 'properties_set': 4000}"
      ]
     },
     "execution_count": 23,
     "metadata": {},
     "output_type": "execute_result"
    }
   ],
   "source": [
    "neo4j.execute_write_query_with_data(query = configs['cypher']['load_nodes']['load_episode'],data = title_episode)"
   ]
  },
  {
   "cell_type": "code",
   "execution_count": 34,
   "metadata": {},
   "outputs": [
    {
     "name": "stderr",
     "output_type": "stream",
     "text": [
      "e:\\OneDrive - up.edu.mx\\Up\\Clases\\.venv\\Lib\\site-packages\\numpy\\_core\\fromnumeric.py:57: FutureWarning: 'DataFrame.swapaxes' is deprecated and will be removed in a future version. Please use 'DataFrame.transpose' instead.\n",
      "  return bound(*args, **kwds)\n"
     ]
    },
    {
     "data": {
      "text/plain": [
       "{'labels_added': 1000, 'nodes_created': 1000, 'properties_set': 6000}"
      ]
     },
     "execution_count": 34,
     "metadata": {},
     "output_type": "execute_result"
    }
   ],
   "source": [
    "neo4j.execute_write_query_with_data(query = configs['cypher']['load_nodes']['load_principals'],data = title_principals)"
   ]
  },
  {
   "cell_type": "code",
   "execution_count": 26,
   "metadata": {},
   "outputs": [
    {
     "name": "stderr",
     "output_type": "stream",
     "text": [
      "e:\\OneDrive - up.edu.mx\\Up\\Clases\\.venv\\Lib\\site-packages\\numpy\\_core\\fromnumeric.py:57: FutureWarning: 'DataFrame.swapaxes' is deprecated and will be removed in a future version. Please use 'DataFrame.transpose' instead.\n",
      "  return bound(*args, **kwds)\n"
     ]
    },
    {
     "data": {
      "text/plain": [
       "{'labels_added': 1000, 'nodes_created': 1000, 'properties_set': 3000}"
      ]
     },
     "execution_count": 26,
     "metadata": {},
     "output_type": "execute_result"
    }
   ],
   "source": [
    "neo4j.execute_write_query_with_data(query = configs['cypher']['load_nodes']['load_ratings'],data = title_ratings)"
   ]
  },
  {
   "cell_type": "code",
   "execution_count": 32,
   "metadata": {},
   "outputs": [
    {
     "name": "stderr",
     "output_type": "stream",
     "text": [
      "e:\\OneDrive - up.edu.mx\\Up\\Clases\\.venv\\Lib\\site-packages\\numpy\\_core\\fromnumeric.py:57: FutureWarning: 'DataFrame.swapaxes' is deprecated and will be removed in a future version. Please use 'DataFrame.transpose' instead.\n",
      "  return bound(*args, **kwds)\n"
     ]
    },
    {
     "data": {
      "text/plain": [
       "{'labels_added': 1000, 'nodes_created': 1000, 'properties_set': 6000}"
      ]
     },
     "execution_count": 32,
     "metadata": {},
     "output_type": "execute_result"
    }
   ],
   "source": [
    "neo4j.execute_write_query_with_data(query = configs['cypher']['load_nodes']['load_namebasics'],data = name_basics)"
   ]
  },
  {
   "cell_type": "code",
   "execution_count": null,
   "metadata": {},
   "outputs": [],
   "source": [
    "# Load monster, subtype, type, and species nodes/relationships\n",
    "# neo4j.execute_write_query_with_data(query = configs['cypher']['load_nodes']['load_monsters'],data = title_principals[~title_principals.monster_name.isna()])"
   ]
  },
  {
   "cell_type": "code",
   "execution_count": null,
   "metadata": {},
   "outputs": [],
   "source": [
    "# Python script: loading main characters\n",
    "# Loading the main characters\n",
    "neo4j.execute_write_query(configs['cypher']['load_nodes']['load_main_characters'])"
   ]
  },
  {
   "cell_type": "code",
   "execution_count": null,
   "metadata": {},
   "outputs": [],
   "source": [
    "# Python - Creating APPEARS_WITH relationships\n",
    "neo4j.execute_write_query(configs['cypher']['load_relationships']['APPEARS_WITH'])"
   ]
  },
  {
   "cell_type": "code",
   "execution_count": 37,
   "metadata": {},
   "outputs": [],
   "source": [
    "driver = GraphDatabase.driver(creds['uri'], auth=basic_auth(creds['user'], creds['password']))"
   ]
  },
  {
   "cell_type": "code",
   "execution_count": 35,
   "metadata": {},
   "outputs": [],
   "source": [
    "cypher_query = '''\n",
    "MATCH (n)\n",
    "RETURN n AS count\n",
    "LIMIT $limit\n",
    "'''"
   ]
  },
  {
   "cell_type": "code",
   "execution_count": 38,
   "metadata": {},
   "outputs": [
    {
     "name": "stderr",
     "output_type": "stream",
     "text": [
      "C:\\Users\\halo4\\AppData\\Local\\Temp\\ipykernel_10848\\212345830.py:2: DeprecationWarning: read_transaction has been renamed to execute_read\n",
      "  results = session.read_transaction(\n"
     ]
    },
    {
     "name": "stdout",
     "output_type": "stream",
     "text": [
      "{'types': 'original', 'index_': 1, 'titleID': 'tt0000001', 'isoriginaltitle': 1, 'language': '\\\\N', 'attributes': '\\\\N', 'title_name': 'Carmencita', 'region': '\\\\N'}\n",
      "{'types': '\\\\N', 'index_': 2, 'titleID': 'tt0000001', 'isoriginaltitle': 0, 'language': '\\\\N', 'attributes': 'literal title', 'title_name': 'Carmencita', 'region': 'DE'}\n",
      "{'types': 'imdbDisplay', 'index_': 3, 'titleID': 'tt0000001', 'isoriginaltitle': 0, 'language': '\\\\N', 'attributes': '\\\\N', 'title_name': 'Carmencita', 'region': 'US'}\n",
      "{'types': 'imdbDisplay', 'index_': 4, 'titleID': 'tt0000001', 'isoriginaltitle': 0, 'language': '\\\\N', 'attributes': '\\\\N', 'title_name': 'Carmencita - spanyol tánc', 'region': 'HU'}\n",
      "{'types': 'imdbDisplay', 'index_': 5, 'titleID': 'tt0000001', 'isoriginaltitle': 0, 'language': '\\\\N', 'attributes': '\\\\N', 'title_name': 'Καρμενσίτα', 'region': 'GR'}\n",
      "{'types': 'imdbDisplay', 'index_': 6, 'titleID': 'tt0000001', 'isoriginaltitle': 0, 'language': '\\\\N', 'attributes': '\\\\N', 'title_name': 'Карменсита', 'region': 'RU'}\n",
      "{'types': 'imdbDisplay', 'index_': 7, 'titleID': 'tt0000001', 'isoriginaltitle': 0, 'language': '\\\\N', 'attributes': '\\\\N', 'title_name': 'Карменсіта', 'region': 'UA'}\n",
      "{'types': 'imdbDisplay', 'index_': 8, 'titleID': 'tt0000001', 'isoriginaltitle': 0, 'language': 'ja', 'attributes': '\\\\N', 'title_name': 'カルメンチータ', 'region': 'JP'}\n",
      "{'types': 'original', 'index_': 1, 'titleID': 'tt0000002', 'isoriginaltitle': 1, 'language': '\\\\N', 'attributes': '\\\\N', 'title_name': 'Le clown et ses chiens', 'region': '\\\\N'}\n",
      "{'types': 'imdbDisplay', 'index_': 2, 'titleID': 'tt0000002', 'isoriginaltitle': 0, 'language': '\\\\N', 'attributes': '\\\\N', 'title_name': 'A bohóc és kutyái', 'region': 'HU'}\n"
     ]
    }
   ],
   "source": [
    "\n",
    "with driver.session(database=\"neo4j\") as session:\n",
    "  results = session.read_transaction(\n",
    "    lambda tx: tx.run(cypher_query,\n",
    "                      limit=10).data())\n",
    "  for record in results:\n",
    "    print(record['count'])\n",
    "\n",
    "driver.close()\n"
   ]
  }
 ],
 "metadata": {
  "kernelspec": {
   "display_name": ".venv",
   "language": "python",
   "name": "python3"
  },
  "language_info": {
   "codemirror_mode": {
    "name": "ipython",
    "version": 3
   },
   "file_extension": ".py",
   "mimetype": "text/x-python",
   "name": "python",
   "nbconvert_exporter": "python",
   "pygments_lexer": "ipython3",
   "version": "3.11.8"
  }
 },
 "nbformat": 4,
 "nbformat_minor": 2
}
