{
 "cells": [
  {
   "cell_type": "code",
   "execution_count": 1,
   "metadata": {},
   "outputs": [],
   "source": [
    "import pandas as pd\n",
    "from neo4j import GraphDatabase, basic_auth\n",
    "import pyneoinstance"
   ]
  },
  {
   "cell_type": "code",
   "execution_count": 2,
   "metadata": {},
   "outputs": [],
   "source": [
    "title_principals = pd.read_csv(r\"E:\\OneDrive - up.edu.mx\\Up\\Clases\\Mineria de datos y CS\\Clase 5\\scoobydoo_new.csv\")"
   ]
  },
  {
   "cell_type": "code",
   "execution_count": 3,
   "metadata": {},
   "outputs": [
    {
     "data": {
      "text/html": [
       "<div>\n",
       "<style scoped>\n",
       "    .dataframe tbody tr th:only-of-type {\n",
       "        vertical-align: middle;\n",
       "    }\n",
       "\n",
       "    .dataframe tbody tr th {\n",
       "        vertical-align: top;\n",
       "    }\n",
       "\n",
       "    .dataframe thead th {\n",
       "        text-align: right;\n",
       "    }\n",
       "</style>\n",
       "<table border=\"1\" class=\"dataframe\">\n",
       "  <thead>\n",
       "    <tr style=\"text-align: right;\">\n",
       "      <th></th>\n",
       "      <th>series_name</th>\n",
       "      <th>network</th>\n",
       "      <th>season</th>\n",
       "      <th>title</th>\n",
       "      <th>imdb</th>\n",
       "      <th>engagement</th>\n",
       "      <th>date_aired</th>\n",
       "      <th>run_time</th>\n",
       "      <th>format</th>\n",
       "      <th>monster_name</th>\n",
       "      <th>...</th>\n",
       "      <th>batman</th>\n",
       "      <th>scooby_dum</th>\n",
       "      <th>scrappy_doo</th>\n",
       "      <th>hex_girls</th>\n",
       "      <th>blue_falcon</th>\n",
       "      <th>fred_va</th>\n",
       "      <th>daphnie_va</th>\n",
       "      <th>velma_va</th>\n",
       "      <th>shaggy_va</th>\n",
       "      <th>scooby_va</th>\n",
       "    </tr>\n",
       "  </thead>\n",
       "  <tbody>\n",
       "    <tr>\n",
       "      <th>0</th>\n",
       "      <td>Scooby Doo, Where Are You!</td>\n",
       "      <td>CBS</td>\n",
       "      <td>1</td>\n",
       "      <td>What a Night for a Knight</td>\n",
       "      <td>8.1</td>\n",
       "      <td>556.0</td>\n",
       "      <td>1969-09-13</td>\n",
       "      <td>21</td>\n",
       "      <td>TV Series</td>\n",
       "      <td>Black Knight</td>\n",
       "      <td>...</td>\n",
       "      <td>False</td>\n",
       "      <td>False</td>\n",
       "      <td>False</td>\n",
       "      <td>False</td>\n",
       "      <td>False</td>\n",
       "      <td>Frank Welker</td>\n",
       "      <td>Stefanianna Christopherson</td>\n",
       "      <td>Nicole Jaffe</td>\n",
       "      <td>Casey Kasem</td>\n",
       "      <td>Don Messick</td>\n",
       "    </tr>\n",
       "    <tr>\n",
       "      <th>1</th>\n",
       "      <td>Scooby Doo, Where Are You!</td>\n",
       "      <td>CBS</td>\n",
       "      <td>1</td>\n",
       "      <td>A Clue for Scooby Doo</td>\n",
       "      <td>8.1</td>\n",
       "      <td>479.0</td>\n",
       "      <td>1969-09-20</td>\n",
       "      <td>22</td>\n",
       "      <td>TV Series</td>\n",
       "      <td>Ghost of Cptn. Cuttler</td>\n",
       "      <td>...</td>\n",
       "      <td>False</td>\n",
       "      <td>False</td>\n",
       "      <td>False</td>\n",
       "      <td>False</td>\n",
       "      <td>False</td>\n",
       "      <td>Frank Welker</td>\n",
       "      <td>Stefanianna Christopherson</td>\n",
       "      <td>Nicole Jaffe</td>\n",
       "      <td>Casey Kasem</td>\n",
       "      <td>Don Messick</td>\n",
       "    </tr>\n",
       "    <tr>\n",
       "      <th>2</th>\n",
       "      <td>Scooby Doo, Where Are You!</td>\n",
       "      <td>CBS</td>\n",
       "      <td>1</td>\n",
       "      <td>Hassle in the Castle</td>\n",
       "      <td>8.0</td>\n",
       "      <td>455.0</td>\n",
       "      <td>1969-09-27</td>\n",
       "      <td>21</td>\n",
       "      <td>TV Series</td>\n",
       "      <td>Phantom</td>\n",
       "      <td>...</td>\n",
       "      <td>False</td>\n",
       "      <td>False</td>\n",
       "      <td>False</td>\n",
       "      <td>False</td>\n",
       "      <td>False</td>\n",
       "      <td>Frank Welker</td>\n",
       "      <td>Stefanianna Christopherson</td>\n",
       "      <td>Nicole Jaffe</td>\n",
       "      <td>Casey Kasem</td>\n",
       "      <td>Don Messick</td>\n",
       "    </tr>\n",
       "    <tr>\n",
       "      <th>3</th>\n",
       "      <td>Scooby Doo, Where Are You!</td>\n",
       "      <td>CBS</td>\n",
       "      <td>1</td>\n",
       "      <td>Mine Your Own Business</td>\n",
       "      <td>7.8</td>\n",
       "      <td>426.0</td>\n",
       "      <td>1969-10-04</td>\n",
       "      <td>21</td>\n",
       "      <td>TV Series</td>\n",
       "      <td>Miner 49'er</td>\n",
       "      <td>...</td>\n",
       "      <td>False</td>\n",
       "      <td>False</td>\n",
       "      <td>False</td>\n",
       "      <td>False</td>\n",
       "      <td>False</td>\n",
       "      <td>Frank Welker</td>\n",
       "      <td>Stefanianna Christopherson</td>\n",
       "      <td>Nicole Jaffe</td>\n",
       "      <td>Casey Kasem</td>\n",
       "      <td>Don Messick</td>\n",
       "    </tr>\n",
       "    <tr>\n",
       "      <th>4</th>\n",
       "      <td>Scooby Doo, Where Are You!</td>\n",
       "      <td>CBS</td>\n",
       "      <td>1</td>\n",
       "      <td>Decoy for a Dognapper</td>\n",
       "      <td>7.5</td>\n",
       "      <td>391.0</td>\n",
       "      <td>1969-10-11</td>\n",
       "      <td>21</td>\n",
       "      <td>TV Series</td>\n",
       "      <td>Indian Witch Doctor</td>\n",
       "      <td>...</td>\n",
       "      <td>False</td>\n",
       "      <td>False</td>\n",
       "      <td>False</td>\n",
       "      <td>False</td>\n",
       "      <td>False</td>\n",
       "      <td>Frank Welker</td>\n",
       "      <td>Stefanianna Christopherson</td>\n",
       "      <td>Nicole Jaffe</td>\n",
       "      <td>Casey Kasem</td>\n",
       "      <td>Don Messick</td>\n",
       "    </tr>\n",
       "  </tbody>\n",
       "</table>\n",
       "<p>5 rows × 74 columns</p>\n",
       "</div>"
      ],
      "text/plain": [
       "                  series_name network season                      title  imdb  \\\n",
       "0  Scooby Doo, Where Are You!     CBS      1  What a Night for a Knight   8.1   \n",
       "1  Scooby Doo, Where Are You!     CBS      1      A Clue for Scooby Doo   8.1   \n",
       "2  Scooby Doo, Where Are You!     CBS      1       Hassle in the Castle   8.0   \n",
       "3  Scooby Doo, Where Are You!     CBS      1     Mine Your Own Business   7.8   \n",
       "4  Scooby Doo, Where Are You!     CBS      1      Decoy for a Dognapper   7.5   \n",
       "\n",
       "   engagement  date_aired  run_time     format            monster_name  ...  \\\n",
       "0       556.0  1969-09-13        21  TV Series            Black Knight  ...   \n",
       "1       479.0  1969-09-20        22  TV Series  Ghost of Cptn. Cuttler  ...   \n",
       "2       455.0  1969-09-27        21  TV Series                 Phantom  ...   \n",
       "3       426.0  1969-10-04        21  TV Series             Miner 49'er  ...   \n",
       "4       391.0  1969-10-11        21  TV Series     Indian Witch Doctor  ...   \n",
       "\n",
       "  batman scooby_dum scrappy_doo hex_girls blue_falcon       fred_va  \\\n",
       "0  False      False       False     False       False  Frank Welker   \n",
       "1  False      False       False     False       False  Frank Welker   \n",
       "2  False      False       False     False       False  Frank Welker   \n",
       "3  False      False       False     False       False  Frank Welker   \n",
       "4  False      False       False     False       False  Frank Welker   \n",
       "\n",
       "                   daphnie_va      velma_va    shaggy_va    scooby_va  \n",
       "0  Stefanianna Christopherson  Nicole Jaffe  Casey Kasem  Don Messick  \n",
       "1  Stefanianna Christopherson  Nicole Jaffe  Casey Kasem  Don Messick  \n",
       "2  Stefanianna Christopherson  Nicole Jaffe  Casey Kasem  Don Messick  \n",
       "3  Stefanianna Christopherson  Nicole Jaffe  Casey Kasem  Don Messick  \n",
       "4  Stefanianna Christopherson  Nicole Jaffe  Casey Kasem  Don Messick  \n",
       "\n",
       "[5 rows x 74 columns]"
      ]
     },
     "execution_count": 3,
     "metadata": {},
     "output_type": "execute_result"
    }
   ],
   "source": [
    "title_principals.head()"
   ]
  },
  {
   "cell_type": "markdown",
   "metadata": {},
   "source": [
    "https://neo4j.com/developer-blog/scoobygraph-2/"
   ]
  },
  {
   "cell_type": "code",
   "execution_count": 15,
   "metadata": {},
   "outputs": [],
   "source": [
    "# Python file - connection to Neo4j\n",
    "\n",
    "# Retrieving the Neo4j connection credentials from the config.yaml file\n",
    "configs=pyneoinstance.load_yaml_file('config copy.yaml')\n",
    "creds=configs['credentials']\n",
    "\n",
    "# Establishing the Neo4j connection\n",
    "neo4j=pyneoinstance.Neo4jInstance(creds['uri'],creds['user'],creds['password'])"
   ]
  },
  {
   "cell_type": "code",
   "execution_count": 6,
   "metadata": {},
   "outputs": [
    {
     "name": "stderr",
     "output_type": "stream",
     "text": [
      "e:\\OneDrive - up.edu.mx\\Up\\Clases\\.venv\\Lib\\site-packages\\numpy\\_core\\fromnumeric.py:57: FutureWarning: 'DataFrame.swapaxes' is deprecated and will be removed in a future version. Please use 'DataFrame.transpose' instead.\n",
      "  return bound(*args, **kwds)\n",
      "e:\\OneDrive - up.edu.mx\\Up\\Clases\\.venv\\Lib\\site-packages\\numpy\\_core\\fromnumeric.py:57: FutureWarning: 'DataFrame.swapaxes' is deprecated and will be removed in a future version. Please use 'DataFrame.transpose' instead.\n",
      "  return bound(*args, **kwds)\n",
      "e:\\OneDrive - up.edu.mx\\Up\\Clases\\.venv\\Lib\\site-packages\\numpy\\_core\\fromnumeric.py:57: FutureWarning: 'DataFrame.swapaxes' is deprecated and will be removed in a future version. Please use 'DataFrame.transpose' instead.\n",
      "  return bound(*args, **kwds)\n",
      "e:\\OneDrive - up.edu.mx\\Up\\Clases\\.venv\\Lib\\site-packages\\pyneoinstance\\database\\neo4jdbms.py:360: FutureWarning: Downcasting object dtype arrays on .fillna, .ffill, .bfill is deprecated and will change in a future version. Call result.infer_objects(copy=False) instead. To opt-in to the future behavior, set `pd.set_option('future.no_silent_downcasting', True)`\n",
      "  rows_dict = {'rows': rows.fillna(value=\"\").to_dict('records')}\n"
     ]
    },
    {
     "data": {
      "text/plain": [
       "{'labels_added': 955,\n",
       " 'relationships_created': 1977,\n",
       " 'nodes_created': 955,\n",
       " 'properties_set': 3073}"
      ]
     },
     "execution_count": 6,
     "metadata": {},
     "output_type": "execute_result"
    }
   ],
   "source": [
    "# Python - loading nodes\n",
    "# Load series nodes\n",
    "neo4j.execute_write_query_with_data(query =configs['cypher']['load_nodes']['load_series'],data=title_principals)\n",
    "# Load episode nodes and IN_SERIES relationships\n",
    "neo4j.execute_write_query_with_data(query = configs['cypher']['load_nodes']['load_episodes'],data = title_principals)\n",
    "# Load monster, subtype, type, and species nodes/relationships\n",
    "neo4j.execute_write_query_with_data(query = configs['cypher']['load_nodes']['load_monsters'],data = title_principals[~title_principals.monster_name.isna()])"
   ]
  },
  {
   "cell_type": "code",
   "execution_count": 10,
   "metadata": {},
   "outputs": [
    {
     "data": {
      "text/plain": [
       "{'labels_added': 5, 'nodes_created': 5, 'properties_set': 5}"
      ]
     },
     "execution_count": 10,
     "metadata": {},
     "output_type": "execute_result"
    }
   ],
   "source": [
    "# Python script: loading main characters\n",
    "# Loading the main characters\n",
    "neo4j.execute_write_query(configs['cypher']['load_nodes']['load_main_characters'])"
   ]
  },
  {
   "cell_type": "code",
   "execution_count": 16,
   "metadata": {},
   "outputs": [
    {
     "data": {
      "text/plain": [
       "{'relationships_created': 2260}"
      ]
     },
     "execution_count": 16,
     "metadata": {},
     "output_type": "execute_result"
    }
   ],
   "source": [
    "# Python - Creating APPEARS_WITH relationships\n",
    "neo4j.execute_write_query(configs['cypher']['load_relationships']['APPEARS_WITH'])"
   ]
  },
  {
   "cell_type": "markdown",
   "metadata": {},
   "source": [
    "To create the UNMASKED, CAPTURED, and CAUGHT relationships, we create a dictionary to map the names in the CSV to the names in the Main Character nodes (e.g. fred -> Fred), find the relevant columns, and load the data into Neo4j.\n",
    "\n",
    "We are using a variable in our Cypher statement called $name, which we set with parameters in execute_write_query_with_data. We also partition the data into two groups for each of these calls to reduce load on the database:"
   ]
  },
  {
   "cell_type": "code",
   "execution_count": 17,
   "metadata": {},
   "outputs": [
    {
     "name": "stderr",
     "output_type": "stream",
     "text": [
      "e:\\OneDrive - up.edu.mx\\Up\\Clases\\.venv\\Lib\\site-packages\\numpy\\_core\\fromnumeric.py:57: FutureWarning: 'DataFrame.swapaxes' is deprecated and will be removed in a future version. Please use 'DataFrame.transpose' instead.\n",
      "  return bound(*args, **kwds)\n",
      "e:\\OneDrive - up.edu.mx\\Up\\Clases\\.venv\\Lib\\site-packages\\pyneoinstance\\database\\neo4jdbms.py:360: FutureWarning: Downcasting object dtype arrays on .fillna, .ffill, .bfill is deprecated and will change in a future version. Call result.infer_objects(copy=False) instead. To opt-in to the future behavior, set `pd.set_option('future.no_silent_downcasting', True)`\n",
      "  rows_dict = {'rows': rows.fillna(value=\"\").to_dict('records')}\n",
      "e:\\OneDrive - up.edu.mx\\Up\\Clases\\.venv\\Lib\\site-packages\\pyneoinstance\\database\\neo4jdbms.py:360: FutureWarning: Downcasting object dtype arrays on .fillna, .ffill, .bfill is deprecated and will change in a future version. Call result.infer_objects(copy=False) instead. To opt-in to the future behavior, set `pd.set_option('future.no_silent_downcasting', True)`\n",
      "  rows_dict = {'rows': rows.fillna(value=\"\").to_dict('records')}\n"
     ]
    },
    {
     "name": "stdout",
     "output_type": "stream",
     "text": [
      "{'relationships_created': 178}\n"
     ]
    },
    {
     "name": "stderr",
     "output_type": "stream",
     "text": [
      "e:\\OneDrive - up.edu.mx\\Up\\Clases\\.venv\\Lib\\site-packages\\numpy\\_core\\fromnumeric.py:57: FutureWarning: 'DataFrame.swapaxes' is deprecated and will be removed in a future version. Please use 'DataFrame.transpose' instead.\n",
      "  return bound(*args, **kwds)\n",
      "e:\\OneDrive - up.edu.mx\\Up\\Clases\\.venv\\Lib\\site-packages\\pyneoinstance\\database\\neo4jdbms.py:360: FutureWarning: Downcasting object dtype arrays on .fillna, .ffill, .bfill is deprecated and will change in a future version. Call result.infer_objects(copy=False) instead. To opt-in to the future behavior, set `pd.set_option('future.no_silent_downcasting', True)`\n",
      "  rows_dict = {'rows': rows.fillna(value=\"\").to_dict('records')}\n",
      "e:\\OneDrive - up.edu.mx\\Up\\Clases\\.venv\\Lib\\site-packages\\pyneoinstance\\database\\neo4jdbms.py:360: FutureWarning: Downcasting object dtype arrays on .fillna, .ffill, .bfill is deprecated and will change in a future version. Call result.infer_objects(copy=False) instead. To opt-in to the future behavior, set `pd.set_option('future.no_silent_downcasting', True)`\n",
      "  rows_dict = {'rows': rows.fillna(value=\"\").to_dict('records')}\n"
     ]
    },
    {
     "name": "stdout",
     "output_type": "stream",
     "text": [
      "{'relationships_created': 49}\n"
     ]
    },
    {
     "name": "stderr",
     "output_type": "stream",
     "text": [
      "e:\\OneDrive - up.edu.mx\\Up\\Clases\\.venv\\Lib\\site-packages\\numpy\\_core\\fromnumeric.py:57: FutureWarning: 'DataFrame.swapaxes' is deprecated and will be removed in a future version. Please use 'DataFrame.transpose' instead.\n",
      "  return bound(*args, **kwds)\n",
      "e:\\OneDrive - up.edu.mx\\Up\\Clases\\.venv\\Lib\\site-packages\\pyneoinstance\\database\\neo4jdbms.py:360: FutureWarning: Downcasting object dtype arrays on .fillna, .ffill, .bfill is deprecated and will change in a future version. Call result.infer_objects(copy=False) instead. To opt-in to the future behavior, set `pd.set_option('future.no_silent_downcasting', True)`\n",
      "  rows_dict = {'rows': rows.fillna(value=\"\").to_dict('records')}\n",
      "e:\\OneDrive - up.edu.mx\\Up\\Clases\\.venv\\Lib\\site-packages\\pyneoinstance\\database\\neo4jdbms.py:360: FutureWarning: Downcasting object dtype arrays on .fillna, .ffill, .bfill is deprecated and will change in a future version. Call result.infer_objects(copy=False) instead. To opt-in to the future behavior, set `pd.set_option('future.no_silent_downcasting', True)`\n",
      "  rows_dict = {'rows': rows.fillna(value=\"\").to_dict('records')}\n"
     ]
    },
    {
     "name": "stdout",
     "output_type": "stream",
     "text": [
      "{'relationships_created': 55}\n"
     ]
    },
    {
     "name": "stderr",
     "output_type": "stream",
     "text": [
      "e:\\OneDrive - up.edu.mx\\Up\\Clases\\.venv\\Lib\\site-packages\\numpy\\_core\\fromnumeric.py:57: FutureWarning: 'DataFrame.swapaxes' is deprecated and will be removed in a future version. Please use 'DataFrame.transpose' instead.\n",
      "  return bound(*args, **kwds)\n",
      "e:\\OneDrive - up.edu.mx\\Up\\Clases\\.venv\\Lib\\site-packages\\pyneoinstance\\database\\neo4jdbms.py:360: FutureWarning: Downcasting object dtype arrays on .fillna, .ffill, .bfill is deprecated and will change in a future version. Call result.infer_objects(copy=False) instead. To opt-in to the future behavior, set `pd.set_option('future.no_silent_downcasting', True)`\n",
      "  rows_dict = {'rows': rows.fillna(value=\"\").to_dict('records')}\n",
      "e:\\OneDrive - up.edu.mx\\Up\\Clases\\.venv\\Lib\\site-packages\\pyneoinstance\\database\\neo4jdbms.py:360: FutureWarning: Downcasting object dtype arrays on .fillna, .ffill, .bfill is deprecated and will change in a future version. Call result.infer_objects(copy=False) instead. To opt-in to the future behavior, set `pd.set_option('future.no_silent_downcasting', True)`\n",
      "  rows_dict = {'rows': rows.fillna(value=\"\").to_dict('records')}\n"
     ]
    },
    {
     "name": "stdout",
     "output_type": "stream",
     "text": [
      "{'relationships_created': 117}\n"
     ]
    },
    {
     "name": "stderr",
     "output_type": "stream",
     "text": [
      "e:\\OneDrive - up.edu.mx\\Up\\Clases\\.venv\\Lib\\site-packages\\numpy\\_core\\fromnumeric.py:57: FutureWarning: 'DataFrame.swapaxes' is deprecated and will be removed in a future version. Please use 'DataFrame.transpose' instead.\n",
      "  return bound(*args, **kwds)\n",
      "e:\\OneDrive - up.edu.mx\\Up\\Clases\\.venv\\Lib\\site-packages\\pyneoinstance\\database\\neo4jdbms.py:360: FutureWarning: Downcasting object dtype arrays on .fillna, .ffill, .bfill is deprecated and will change in a future version. Call result.infer_objects(copy=False) instead. To opt-in to the future behavior, set `pd.set_option('future.no_silent_downcasting', True)`\n",
      "  rows_dict = {'rows': rows.fillna(value=\"\").to_dict('records')}\n",
      "e:\\OneDrive - up.edu.mx\\Up\\Clases\\.venv\\Lib\\site-packages\\pyneoinstance\\database\\neo4jdbms.py:360: FutureWarning: Downcasting object dtype arrays on .fillna, .ffill, .bfill is deprecated and will change in a future version. Call result.infer_objects(copy=False) instead. To opt-in to the future behavior, set `pd.set_option('future.no_silent_downcasting', True)`\n",
      "  rows_dict = {'rows': rows.fillna(value=\"\").to_dict('records')}\n"
     ]
    },
    {
     "name": "stdout",
     "output_type": "stream",
     "text": [
      "{'relationships_created': 233}\n"
     ]
    },
    {
     "name": "stderr",
     "output_type": "stream",
     "text": [
      "e:\\OneDrive - up.edu.mx\\Up\\Clases\\.venv\\Lib\\site-packages\\numpy\\_core\\fromnumeric.py:57: FutureWarning: 'DataFrame.swapaxes' is deprecated and will be removed in a future version. Please use 'DataFrame.transpose' instead.\n",
      "  return bound(*args, **kwds)\n",
      "e:\\OneDrive - up.edu.mx\\Up\\Clases\\.venv\\Lib\\site-packages\\pyneoinstance\\database\\neo4jdbms.py:360: FutureWarning: Downcasting object dtype arrays on .fillna, .ffill, .bfill is deprecated and will change in a future version. Call result.infer_objects(copy=False) instead. To opt-in to the future behavior, set `pd.set_option('future.no_silent_downcasting', True)`\n",
      "  rows_dict = {'rows': rows.fillna(value=\"\").to_dict('records')}\n",
      "e:\\OneDrive - up.edu.mx\\Up\\Clases\\.venv\\Lib\\site-packages\\pyneoinstance\\database\\neo4jdbms.py:360: FutureWarning: Downcasting object dtype arrays on .fillna, .ffill, .bfill is deprecated and will change in a future version. Call result.infer_objects(copy=False) instead. To opt-in to the future behavior, set `pd.set_option('future.no_silent_downcasting', True)`\n",
      "  rows_dict = {'rows': rows.fillna(value=\"\").to_dict('records')}\n"
     ]
    },
    {
     "name": "stdout",
     "output_type": "stream",
     "text": [
      "{'relationships_created': 142}\n"
     ]
    },
    {
     "name": "stderr",
     "output_type": "stream",
     "text": [
      "e:\\OneDrive - up.edu.mx\\Up\\Clases\\.venv\\Lib\\site-packages\\numpy\\_core\\fromnumeric.py:57: FutureWarning: 'DataFrame.swapaxes' is deprecated and will be removed in a future version. Please use 'DataFrame.transpose' instead.\n",
      "  return bound(*args, **kwds)\n",
      "e:\\OneDrive - up.edu.mx\\Up\\Clases\\.venv\\Lib\\site-packages\\pyneoinstance\\database\\neo4jdbms.py:360: FutureWarning: Downcasting object dtype arrays on .fillna, .ffill, .bfill is deprecated and will change in a future version. Call result.infer_objects(copy=False) instead. To opt-in to the future behavior, set `pd.set_option('future.no_silent_downcasting', True)`\n",
      "  rows_dict = {'rows': rows.fillna(value=\"\").to_dict('records')}\n",
      "e:\\OneDrive - up.edu.mx\\Up\\Clases\\.venv\\Lib\\site-packages\\pyneoinstance\\database\\neo4jdbms.py:360: FutureWarning: Downcasting object dtype arrays on .fillna, .ffill, .bfill is deprecated and will change in a future version. Call result.infer_objects(copy=False) instead. To opt-in to the future behavior, set `pd.set_option('future.no_silent_downcasting', True)`\n",
      "  rows_dict = {'rows': rows.fillna(value=\"\").to_dict('records')}\n"
     ]
    },
    {
     "name": "stdout",
     "output_type": "stream",
     "text": [
      "{'relationships_created': 176}\n"
     ]
    },
    {
     "name": "stderr",
     "output_type": "stream",
     "text": [
      "e:\\OneDrive - up.edu.mx\\Up\\Clases\\.venv\\Lib\\site-packages\\numpy\\_core\\fromnumeric.py:57: FutureWarning: 'DataFrame.swapaxes' is deprecated and will be removed in a future version. Please use 'DataFrame.transpose' instead.\n",
      "  return bound(*args, **kwds)\n",
      "e:\\OneDrive - up.edu.mx\\Up\\Clases\\.venv\\Lib\\site-packages\\pyneoinstance\\database\\neo4jdbms.py:360: FutureWarning: Downcasting object dtype arrays on .fillna, .ffill, .bfill is deprecated and will change in a future version. Call result.infer_objects(copy=False) instead. To opt-in to the future behavior, set `pd.set_option('future.no_silent_downcasting', True)`\n",
      "  rows_dict = {'rows': rows.fillna(value=\"\").to_dict('records')}\n",
      "e:\\OneDrive - up.edu.mx\\Up\\Clases\\.venv\\Lib\\site-packages\\pyneoinstance\\database\\neo4jdbms.py:360: FutureWarning: Downcasting object dtype arrays on .fillna, .ffill, .bfill is deprecated and will change in a future version. Call result.infer_objects(copy=False) instead. To opt-in to the future behavior, set `pd.set_option('future.no_silent_downcasting', True)`\n",
      "  rows_dict = {'rows': rows.fillna(value=\"\").to_dict('records')}\n"
     ]
    },
    {
     "name": "stdout",
     "output_type": "stream",
     "text": [
      "{'relationships_created': 146}\n"
     ]
    },
    {
     "name": "stderr",
     "output_type": "stream",
     "text": [
      "e:\\OneDrive - up.edu.mx\\Up\\Clases\\.venv\\Lib\\site-packages\\numpy\\_core\\fromnumeric.py:57: FutureWarning: 'DataFrame.swapaxes' is deprecated and will be removed in a future version. Please use 'DataFrame.transpose' instead.\n",
      "  return bound(*args, **kwds)\n",
      "e:\\OneDrive - up.edu.mx\\Up\\Clases\\.venv\\Lib\\site-packages\\pyneoinstance\\database\\neo4jdbms.py:360: FutureWarning: Downcasting object dtype arrays on .fillna, .ffill, .bfill is deprecated and will change in a future version. Call result.infer_objects(copy=False) instead. To opt-in to the future behavior, set `pd.set_option('future.no_silent_downcasting', True)`\n",
      "  rows_dict = {'rows': rows.fillna(value=\"\").to_dict('records')}\n",
      "e:\\OneDrive - up.edu.mx\\Up\\Clases\\.venv\\Lib\\site-packages\\pyneoinstance\\database\\neo4jdbms.py:360: FutureWarning: Downcasting object dtype arrays on .fillna, .ffill, .bfill is deprecated and will change in a future version. Call result.infer_objects(copy=False) instead. To opt-in to the future behavior, set `pd.set_option('future.no_silent_downcasting', True)`\n",
      "  rows_dict = {'rows': rows.fillna(value=\"\").to_dict('records')}\n"
     ]
    },
    {
     "name": "stdout",
     "output_type": "stream",
     "text": [
      "{'relationships_created': 164}\n"
     ]
    },
    {
     "name": "stderr",
     "output_type": "stream",
     "text": [
      "e:\\OneDrive - up.edu.mx\\Up\\Clases\\.venv\\Lib\\site-packages\\numpy\\_core\\fromnumeric.py:57: FutureWarning: 'DataFrame.swapaxes' is deprecated and will be removed in a future version. Please use 'DataFrame.transpose' instead.\n",
      "  return bound(*args, **kwds)\n",
      "e:\\OneDrive - up.edu.mx\\Up\\Clases\\.venv\\Lib\\site-packages\\pyneoinstance\\database\\neo4jdbms.py:360: FutureWarning: Downcasting object dtype arrays on .fillna, .ffill, .bfill is deprecated and will change in a future version. Call result.infer_objects(copy=False) instead. To opt-in to the future behavior, set `pd.set_option('future.no_silent_downcasting', True)`\n",
      "  rows_dict = {'rows': rows.fillna(value=\"\").to_dict('records')}\n",
      "e:\\OneDrive - up.edu.mx\\Up\\Clases\\.venv\\Lib\\site-packages\\pyneoinstance\\database\\neo4jdbms.py:360: FutureWarning: Downcasting object dtype arrays on .fillna, .ffill, .bfill is deprecated and will change in a future version. Call result.infer_objects(copy=False) instead. To opt-in to the future behavior, set `pd.set_option('future.no_silent_downcasting', True)`\n",
      "  rows_dict = {'rows': rows.fillna(value=\"\").to_dict('records')}\n"
     ]
    },
    {
     "name": "stdout",
     "output_type": "stream",
     "text": [
      "{'relationships_created': 166}\n"
     ]
    },
    {
     "name": "stderr",
     "output_type": "stream",
     "text": [
      "e:\\OneDrive - up.edu.mx\\Up\\Clases\\.venv\\Lib\\site-packages\\numpy\\_core\\fromnumeric.py:57: FutureWarning: 'DataFrame.swapaxes' is deprecated and will be removed in a future version. Please use 'DataFrame.transpose' instead.\n",
      "  return bound(*args, **kwds)\n",
      "e:\\OneDrive - up.edu.mx\\Up\\Clases\\.venv\\Lib\\site-packages\\pyneoinstance\\database\\neo4jdbms.py:360: FutureWarning: Downcasting object dtype arrays on .fillna, .ffill, .bfill is deprecated and will change in a future version. Call result.infer_objects(copy=False) instead. To opt-in to the future behavior, set `pd.set_option('future.no_silent_downcasting', True)`\n",
      "  rows_dict = {'rows': rows.fillna(value=\"\").to_dict('records')}\n",
      "e:\\OneDrive - up.edu.mx\\Up\\Clases\\.venv\\Lib\\site-packages\\pyneoinstance\\database\\neo4jdbms.py:360: FutureWarning: Downcasting object dtype arrays on .fillna, .ffill, .bfill is deprecated and will change in a future version. Call result.infer_objects(copy=False) instead. To opt-in to the future behavior, set `pd.set_option('future.no_silent_downcasting', True)`\n",
      "  rows_dict = {'rows': rows.fillna(value=\"\").to_dict('records')}\n"
     ]
    },
    {
     "name": "stdout",
     "output_type": "stream",
     "text": [
      "{'relationships_created': 135}\n"
     ]
    },
    {
     "name": "stderr",
     "output_type": "stream",
     "text": [
      "e:\\OneDrive - up.edu.mx\\Up\\Clases\\.venv\\Lib\\site-packages\\numpy\\_core\\fromnumeric.py:57: FutureWarning: 'DataFrame.swapaxes' is deprecated and will be removed in a future version. Please use 'DataFrame.transpose' instead.\n",
      "  return bound(*args, **kwds)\n",
      "e:\\OneDrive - up.edu.mx\\Up\\Clases\\.venv\\Lib\\site-packages\\pyneoinstance\\database\\neo4jdbms.py:360: FutureWarning: Downcasting object dtype arrays on .fillna, .ffill, .bfill is deprecated and will change in a future version. Call result.infer_objects(copy=False) instead. To opt-in to the future behavior, set `pd.set_option('future.no_silent_downcasting', True)`\n",
      "  rows_dict = {'rows': rows.fillna(value=\"\").to_dict('records')}\n",
      "e:\\OneDrive - up.edu.mx\\Up\\Clases\\.venv\\Lib\\site-packages\\pyneoinstance\\database\\neo4jdbms.py:360: FutureWarning: Downcasting object dtype arrays on .fillna, .ffill, .bfill is deprecated and will change in a future version. Call result.infer_objects(copy=False) instead. To opt-in to the future behavior, set `pd.set_option('future.no_silent_downcasting', True)`\n",
      "  rows_dict = {'rows': rows.fillna(value=\"\").to_dict('records')}\n"
     ]
    },
    {
     "name": "stdout",
     "output_type": "stream",
     "text": [
      "{'relationships_created': 62}\n"
     ]
    },
    {
     "name": "stderr",
     "output_type": "stream",
     "text": [
      "e:\\OneDrive - up.edu.mx\\Up\\Clases\\.venv\\Lib\\site-packages\\numpy\\_core\\fromnumeric.py:57: FutureWarning: 'DataFrame.swapaxes' is deprecated and will be removed in a future version. Please use 'DataFrame.transpose' instead.\n",
      "  return bound(*args, **kwds)\n",
      "e:\\OneDrive - up.edu.mx\\Up\\Clases\\.venv\\Lib\\site-packages\\pyneoinstance\\database\\neo4jdbms.py:360: FutureWarning: Downcasting object dtype arrays on .fillna, .ffill, .bfill is deprecated and will change in a future version. Call result.infer_objects(copy=False) instead. To opt-in to the future behavior, set `pd.set_option('future.no_silent_downcasting', True)`\n",
      "  rows_dict = {'rows': rows.fillna(value=\"\").to_dict('records')}\n",
      "e:\\OneDrive - up.edu.mx\\Up\\Clases\\.venv\\Lib\\site-packages\\pyneoinstance\\database\\neo4jdbms.py:360: FutureWarning: Downcasting object dtype arrays on .fillna, .ffill, .bfill is deprecated and will change in a future version. Call result.infer_objects(copy=False) instead. To opt-in to the future behavior, set `pd.set_option('future.no_silent_downcasting', True)`\n",
      "  rows_dict = {'rows': rows.fillna(value=\"\").to_dict('records')}\n"
     ]
    },
    {
     "name": "stdout",
     "output_type": "stream",
     "text": [
      "{'relationships_created': 136}\n"
     ]
    },
    {
     "name": "stderr",
     "output_type": "stream",
     "text": [
      "e:\\OneDrive - up.edu.mx\\Up\\Clases\\.venv\\Lib\\site-packages\\numpy\\_core\\fromnumeric.py:57: FutureWarning: 'DataFrame.swapaxes' is deprecated and will be removed in a future version. Please use 'DataFrame.transpose' instead.\n",
      "  return bound(*args, **kwds)\n",
      "e:\\OneDrive - up.edu.mx\\Up\\Clases\\.venv\\Lib\\site-packages\\pyneoinstance\\database\\neo4jdbms.py:360: FutureWarning: Downcasting object dtype arrays on .fillna, .ffill, .bfill is deprecated and will change in a future version. Call result.infer_objects(copy=False) instead. To opt-in to the future behavior, set `pd.set_option('future.no_silent_downcasting', True)`\n",
      "  rows_dict = {'rows': rows.fillna(value=\"\").to_dict('records')}\n",
      "e:\\OneDrive - up.edu.mx\\Up\\Clases\\.venv\\Lib\\site-packages\\pyneoinstance\\database\\neo4jdbms.py:360: FutureWarning: Downcasting object dtype arrays on .fillna, .ffill, .bfill is deprecated and will change in a future version. Call result.infer_objects(copy=False) instead. To opt-in to the future behavior, set `pd.set_option('future.no_silent_downcasting', True)`\n",
      "  rows_dict = {'rows': rows.fillna(value=\"\").to_dict('records')}\n"
     ]
    },
    {
     "name": "stdout",
     "output_type": "stream",
     "text": [
      "{'relationships_created': 21}\n"
     ]
    },
    {
     "name": "stderr",
     "output_type": "stream",
     "text": [
      "e:\\OneDrive - up.edu.mx\\Up\\Clases\\.venv\\Lib\\site-packages\\numpy\\_core\\fromnumeric.py:57: FutureWarning: 'DataFrame.swapaxes' is deprecated and will be removed in a future version. Please use 'DataFrame.transpose' instead.\n",
      "  return bound(*args, **kwds)\n",
      "e:\\OneDrive - up.edu.mx\\Up\\Clases\\.venv\\Lib\\site-packages\\pyneoinstance\\database\\neo4jdbms.py:360: FutureWarning: Downcasting object dtype arrays on .fillna, .ffill, .bfill is deprecated and will change in a future version. Call result.infer_objects(copy=False) instead. To opt-in to the future behavior, set `pd.set_option('future.no_silent_downcasting', True)`\n",
      "  rows_dict = {'rows': rows.fillna(value=\"\").to_dict('records')}\n",
      "e:\\OneDrive - up.edu.mx\\Up\\Clases\\.venv\\Lib\\site-packages\\pyneoinstance\\database\\neo4jdbms.py:360: FutureWarning: Downcasting object dtype arrays on .fillna, .ffill, .bfill is deprecated and will change in a future version. Call result.infer_objects(copy=False) instead. To opt-in to the future behavior, set `pd.set_option('future.no_silent_downcasting', True)`\n",
      "  rows_dict = {'rows': rows.fillna(value=\"\").to_dict('records')}\n"
     ]
    },
    {
     "name": "stdout",
     "output_type": "stream",
     "text": [
      "{'relationships_created': 36}\n"
     ]
    }
   ],
   "source": [
    "# Python script: monster-main character connections\n",
    "\n",
    "# Adding in CAUGHT, UNMASKED, and CAPTURED relationships\n",
    "adjusted_names = {'fred':'Fred',\n",
    "                  'daphnie':'Daphne',\n",
    "                  'velma': 'Velma',\n",
    "                  'shaggy': 'Shaggy',\n",
    "                  'scooby': 'Scooby'}\n",
    "\n",
    "for col in title_principals.columns:\n",
    "\n",
    "    # Finding the caught columns\n",
    "    if 'caught' in col:\n",
    "        if col.split('_')[1] in adjusted_names:\n",
    "            name = adjusted_names[col.split('_')[1]] \n",
    "            result = neo4j.execute_write_query_with_data(query = configs['cypher']['load_relationships']['CAUGHT'],data = title_principals[title_principals[col]==True],partitions=2,parameters={\"name\":name})\n",
    "            print(result)\n",
    "    \n",
    "    # Finding the unmask columns\n",
    "    elif 'unmask' in col:\n",
    "        if col.split('_')[1] in adjusted_names:\n",
    "            name = adjusted_names[col.split('_')[1]]\n",
    "            result = neo4j.execute_write_query_with_data(query = configs['cypher']['load_relationships']['UNMASKED'],data = title_principals[title_principals[col]==True],partitions=2,parameters={\"name\":name})\n",
    "            print(result)\n",
    "\n",
    "    # Finding the capture columns\n",
    "    elif 'capture' in col:\n",
    "        if col.split('_')[1] in adjusted_names:\n",
    "            name = adjusted_names[col.split('_')[1]]\n",
    "            result = neo4j.execute_write_query_with_data(query = configs['cypher']['load_relationships']['CAPTURED'],data = title_principals[title_principals[col]==True],partitions=2,parameters={\"name\":name})\n",
    "            print(result)"
   ]
  },
  {
   "cell_type": "markdown",
   "metadata": {},
   "source": []
  }
 ],
 "metadata": {
  "kernelspec": {
   "display_name": ".venv",
   "language": "python",
   "name": "python3"
  },
  "language_info": {
   "codemirror_mode": {
    "name": "ipython",
    "version": 3
   },
   "file_extension": ".py",
   "mimetype": "text/x-python",
   "name": "python",
   "nbconvert_exporter": "python",
   "pygments_lexer": "ipython3",
   "version": "3.11.8"
  }
 },
 "nbformat": 4,
 "nbformat_minor": 2
}
